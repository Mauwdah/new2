{
  "nbformat": 4,
  "nbformat_minor": 0,
  "metadata": {
    "colab": {
      "provenance": [],
      "authorship_tag": "ABX9TyN+N2jzRYXA4o577Pv9KotV"
    },
    "kernelspec": {
      "name": "python3",
      "display_name": "Python 3"
    },
    "language_info": {
      "name": "python"
    },
    "accelerator": "TPU"
  },
  "cells": [
    {
      "cell_type": "code",
      "execution_count": null,
      "metadata": {
        "id": "sD6Gj5e4i1zq"
      },
      "outputs": [],
      "source": [
        "a=5\n",
        "b=10\n",
        "c=a*b\n",
        "print(\"The answer is: \",c)"
      ]
    }
  ]
}